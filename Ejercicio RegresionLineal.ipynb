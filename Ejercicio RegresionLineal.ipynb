{
 "cells": [
  {
   "cell_type": "code",
   "execution_count": 1,
   "metadata": {},
   "outputs": [],
   "source": [
    "#Importamos librerias necesarias\n",
    "from sklearn.linear_model import LinearRegression\n",
    "import numpy as np\n",
    "import matplotlib.pyplot as plt"
   ]
  },
  {
   "cell_type": "code",
   "execution_count": 2,
   "metadata": {},
   "outputs": [],
   "source": [
    "#Definimos los vectores de entrenamiento como de prueba\n",
    "x_train = np.array([[42.0,2.0,1.0],\n",
    "               [46.0,3.0,1.0],\n",
    "               [50.0,1.0,1.0],\n",
    "               [30.0,1.0,1.0],\n",
    "               [40.0,1.0,1.0],\n",
    "               [39.0,2.0,1.0],\n",
    "               [15.0,1.0,0.0],\n",
    "               [16.0,1.0,1.0],\n",
    "               [20.0,2.0,0.0],\n",
    "               [18.0,3.0,1.0],\n",
    "               [24.0,3.0,0.0],\n",
    "               [30.0,1.0,1.0],\n",
    "               [37.0,2.0,1.0],\n",
    "               [19.0,1.0,1.0],\n",
    "               [23.0,1.0,1.0],\n",
    "               [49.0,2.0,0.0],\n",
    "               [40.0,1.0,1.0],\n",
    "               [24.0,2.0,0.0],\n",
    "               [22.0,2.0,0.0],\n",
    "               [26.0,3.0,0.0]\n",
    "              ])\n",
    "y_train = np.array([0,0,0,0,0,0,0,0,0,0,1,0,0,0,0,1,0,1,1,1])\n",
    "\n",
    "x_test = np.array([[28.0,3.0,0.0],\n",
    "               [22.0,3.0,1.0],\n",
    "               [24.0,1.0,1.0],\n",
    "               [17.0,2.0,1.0],\n",
    "               [50.0,2.0,0.0],\n",
    "               [18.0,1.0,1.0],\n",
    "               [25.0,2.0,1.0],\n",
    "               [40.0,2.0,1.0],\n",
    "               [33.0,1.0,1.0],\n",
    "               [29.0,1.0,0.0],\n",
    "               [31.0,2.0,0.0],\n",
    "               [20.0,3.0,1.0],\n",
    "               [25.0,3.0,0.0],\n",
    "               [49.0,2.0,0.0]\n",
    "              ])\n",
    "y_test = np.array([1,0,0,0,1,0,0,0,0,0,1,0,1,1])"
   ]
  },
  {
   "cell_type": "code",
   "execution_count": 3,
   "metadata": {},
   "outputs": [
    {
     "data": {
      "text/plain": [
       "0.6848127260277388"
      ]
     },
     "execution_count": 3,
     "metadata": {},
     "output_type": "execute_result"
    }
   ],
   "source": [
    "#Creamos el Regresor lineal\n",
    "clf = LinearRegression()\n",
    "#Alimentamos al regresor\n",
    "clf.fit(x_train, y_train)\n",
    "#Comprobamos el porcentaje de exactitud\n",
    "clf.score(x_train,y_train)"
   ]
  },
  {
   "cell_type": "code",
   "execution_count": 4,
   "metadata": {},
   "outputs": [
    {
     "data": {
      "text/plain": [
       "array([ 0.82518408,  0.09663318, -0.11684826, -0.04715597,  0.84811287,\n",
       "       -0.15389669,  0.00224194,  0.09486302, -0.06127561,  0.6055279 ,\n",
       "        0.73079284,  0.0842837 ,  0.80665986,  0.84193813])"
      ]
     },
     "execution_count": 4,
     "metadata": {},
     "output_type": "execute_result"
    },
    {
     "data": {
      "image/png": "[encoded data removed]",
      "text/plain": [
       "<Figure size 288x216 with 1 Axes>"
      ]
     },
     "metadata": {
      "needs_background": "light"
     },
     "output_type": "display_data"
    }
   ],
   "source": [
    "#Hacemos la predicción\n",
    "predicted = clf.predict(x_test)\n",
    "expected = y_test\n",
    "#Graficamos\n",
    "plt.figure(figsize=(4,3))\n",
    "plt.scatter(expected,predicted)\n",
    "plt.plot([0,1], [0,1], '--k')\n",
    "plt.axis('tight')\n",
    "plt.tight_layout()\n",
    "predicted"
   ]
  },
  {
   "cell_type": "code",
   "execution_count": 5,
   "metadata": {},
   "outputs": [
    {
     "name": "stdout",
     "output_type": "stream",
     "text": [
      "Error: 0.21110130099000743\n"
     ]
    }
   ],
   "source": [
    "#Calculamos el error\n",
    "print(\"Error: %r\" %np.sqrt(np.mean((predicted - expected) ** 2)))\n",
    "plt.show()"
   ]
  },
  {
   "cell_type": "code",
   "execution_count": 6,
   "metadata": {},
   "outputs": [
    {
     "name": "stdout",
     "output_type": "stream",
     "text": [
      "[1 0 0 0 1 0 0 0 0 0 1 0 1 1]\n"
     ]
    }
   ],
   "source": [
    "#Impirmimos los valores esperamos\n",
    "print(expected)"
   ]
  },
  {
   "cell_type": "code",
   "execution_count": 7,
   "metadata": {},
   "outputs": [
    {
     "name": "stdout",
     "output_type": "stream",
     "text": [
      "[ 0.82518408  0.09663318 -0.11684826 -0.04715597  0.84811287 -0.15389669\n",
      "  0.00224194  0.09486302 -0.06127561  0.6055279   0.73079284  0.0842837\n",
      "  0.80665986  0.84193813]\n"
     ]
    }
   ],
   "source": [
    "#Imprimimos los valores predecidos\n",
    "print(predicted)"
   ]
  }
 ],
 "metadata": {
  "kernelspec": {
   "display_name": "Python 3",
   "language": "python",
   "name": "python3"
  },
  "language_info": {
   "codemirror_mode": {
    "name": "ipython",
    "version": 3
   },
   "file_extension": ".py",
   "mimetype": "text/x-python",
   "name": "python",
   "nbconvert_exporter": "python",
   "pygments_lexer": "ipython3",
   "version": "3.7.4"
  }
 },
 "nbformat": 4,
 "nbformat_minor": 2
}
